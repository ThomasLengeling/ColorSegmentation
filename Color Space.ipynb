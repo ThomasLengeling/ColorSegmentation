{
 "cells": [
  {
   "cell_type": "code",
   "execution_count": 4,
   "metadata": {
    "collapsed": true
   },
   "outputs": [],
   "source": [
    "import cv2\n",
    "import numpy as np"
   ]
  },
  {
   "cell_type": "code",
   "execution_count": 5,
   "metadata": {
    "collapsed": true
   },
   "outputs": [],
   "source": [
    "bright = cv2.imread('cube1.png')\n",
    "dark = cv2.imread('cube8.png')"
   ]
  },
  {
   "cell_type": "code",
   "execution_count": 11,
   "metadata": {
    "collapsed": true
   },
   "outputs": [],
   "source": [
    "#python \n",
    "brightHSV = cv2.cvtColor(bright, cv2.COLOR_BGR2HSV)\n",
    "darkHSV = cv2.cvtColor(dark, cv2.COLOR_BGR2HSV)\n",
    "\n",
    "#python \n",
    "brightYCB = cv2.cvtColor(bright, cv2.COLOR_BGR2HSV)\n",
    "darkYCB = cv2.cvtColor(dark, cv2.COLOR_BGR2HSV)\n",
    "\n",
    "\n",
    "brightLAB = cv2.cvtColor(bright, cv2.COLOR_BGR2HSV)\n",
    "brightYCB = cv2.cvtColor(dark, cv2.COLOR_BGR2HSV)\n"
   ]
  },
  {
   "cell_type": "code",
   "execution_count": 12,
   "metadata": {
    "collapsed": false
   },
   "outputs": [
    {
     "ename": "error",
     "evalue": "/Users/travis/build/skvark/opencv-python/opencv/modules/highgui/src/window.cpp:583: error: (-2) The function is not implemented. Rebuild the library with Windows, GTK+ 2.x or Carbon support. If you are on Ubuntu or Debian, install libgtk2.0-dev and pkg-config, then re-run cmake or configure script in function cvShowImage\n",
     "output_type": "error",
     "traceback": [
      "\u001b[0;31m---------------------------------------------------------------------------\u001b[0m",
      "\u001b[0;31merror\u001b[0m                                     Traceback (most recent call last)",
      "\u001b[0;32m<ipython-input-12-d58606aa34fa>\u001b[0m in \u001b[0;36m<module>\u001b[0;34m()\u001b[0m\n\u001b[1;32m     36\u001b[0m \u001b[0mresultLAB\u001b[0m \u001b[0;34m=\u001b[0m \u001b[0mcv2\u001b[0m\u001b[0;34m.\u001b[0m\u001b[0mbitwise_and\u001b[0m\u001b[0;34m(\u001b[0m\u001b[0mbrightLAB\u001b[0m\u001b[0;34m,\u001b[0m \u001b[0mbrightLAB\u001b[0m\u001b[0;34m,\u001b[0m \u001b[0mmask\u001b[0m \u001b[0;34m=\u001b[0m \u001b[0mmaskLAB\u001b[0m\u001b[0;34m)\u001b[0m\u001b[0;34m\u001b[0m\u001b[0m\n\u001b[1;32m     37\u001b[0m \u001b[0;34m\u001b[0m\u001b[0m\n\u001b[0;32m---> 38\u001b[0;31m \u001b[0mcv2\u001b[0m\u001b[0;34m.\u001b[0m\u001b[0mimshow\u001b[0m\u001b[0;34m(\u001b[0m\u001b[0;34m\"Result BGR\"\u001b[0m\u001b[0;34m,\u001b[0m \u001b[0mresultBGR\u001b[0m\u001b[0;34m)\u001b[0m\u001b[0;34m\u001b[0m\u001b[0m\n\u001b[0m\u001b[1;32m     39\u001b[0m \u001b[0mcv2\u001b[0m\u001b[0;34m.\u001b[0m\u001b[0mimshow\u001b[0m\u001b[0;34m(\u001b[0m\u001b[0;34m\"Result HSV\"\u001b[0m\u001b[0;34m,\u001b[0m \u001b[0mresultHSV\u001b[0m\u001b[0;34m)\u001b[0m\u001b[0;34m\u001b[0m\u001b[0m\n\u001b[1;32m     40\u001b[0m \u001b[0mcv2\u001b[0m\u001b[0;34m.\u001b[0m\u001b[0mimshow\u001b[0m\u001b[0;34m(\u001b[0m\u001b[0;34m\"Result YCB\"\u001b[0m\u001b[0;34m,\u001b[0m \u001b[0mresultYCB\u001b[0m\u001b[0;34m)\u001b[0m\u001b[0;34m\u001b[0m\u001b[0m\n",
      "\u001b[0;31merror\u001b[0m: /Users/travis/build/skvark/opencv-python/opencv/modules/highgui/src/window.cpp:583: error: (-2) The function is not implemented. Rebuild the library with Windows, GTK+ 2.x or Carbon support. If you are on Ubuntu or Debian, install libgtk2.0-dev and pkg-config, then re-run cmake or configure script in function cvShowImage\n"
     ]
    }
   ],
   "source": [
    "bgr = [40, 158, 16]\n",
    "thresh = 40\n",
    " \n",
    "minBGR = np.array([bgr[0] - thresh, bgr[1] - thresh, bgr[2] - thresh])\n",
    "maxBGR = np.array([bgr[0] + thresh, bgr[1] + thresh, bgr[2] + thresh])\n",
    " \n",
    "maskBGR = cv2.inRange(bright,minBGR,maxBGR)\n",
    "resultBGR = cv2.bitwise_and(bright, bright, mask = maskBGR)\n",
    " \n",
    "#convert 1D array to 3D, then convert it to HSV and take the first element \n",
    "# this will be same as shown in the above figure [65, 229, 158]\n",
    "hsv = cv2.cvtColor( np.uint8([[bgr]] ), cv2.COLOR_BGR2HSV)[0][0]\n",
    " \n",
    "minHSV = np.array([hsv[0] - thresh, hsv[1] - thresh, hsv[2] - thresh])\n",
    "maxHSV = np.array([hsv[0] + thresh, hsv[1] + thresh, hsv[2] + thresh])\n",
    " \n",
    "maskHSV = cv2.inRange(brightHSV, minHSV, maxHSV)\n",
    "resultHSV = cv2.bitwise_and(brightHSV, brightHSV, mask = maskHSV)\n",
    " \n",
    "#convert 1D array to 3D, then convert it to YCrCb and take the first element \n",
    "ycb = cv2.cvtColor( np.uint8([[bgr]] ), cv2.COLOR_BGR2YCrCb)[0][0]\n",
    " \n",
    "minYCB = np.array([ycb[0] - thresh, ycb[1] - thresh, ycb[2] - thresh])\n",
    "maxYCB = np.array([ycb[0] + thresh, ycb[1] + thresh, ycb[2] + thresh])\n",
    " \n",
    "maskYCB = cv2.inRange(brightYCB, minYCB, maxYCB)\n",
    "resultYCB = cv2.bitwise_and(brightYCB, brightYCB, mask = maskYCB)\n",
    " \n",
    "#convert 1D array to 3D, then convert it to LAB and take the first element \n",
    "lab = cv2.cvtColor( np.uint8([[bgr]] ), cv2.COLOR_BGR2LAB)[0][0]\n",
    " \n",
    "minLAB = np.array([lab[0] - thresh, lab[1] - thresh, lab[2] - thresh])\n",
    "maxLAB = np.array([lab[0] + thresh, lab[1] + thresh, lab[2] + thresh])\n",
    " \n",
    "maskLAB = cv2.inRange(brightLAB, minLAB, maxLAB)\n",
    "resultLAB = cv2.bitwise_and(brightLAB, brightLAB, mask = maskLAB)\n",
    " \n",
    "cv2.imshow(\"Result BGR\", resultBGR)\n",
    "cv2.imshow(\"Result HSV\", resultHSV)\n",
    "cv2.imshow(\"Result YCB\", resultYCB)\n",
    "cv2.imshow(\"Output LAB\", resultLAB)"
   ]
  },
  {
   "cell_type": "code",
   "execution_count": null,
   "metadata": {
    "collapsed": true
   },
   "outputs": [],
   "source": []
  }
 ],
 "metadata": {
  "kernelspec": {
   "display_name": "Python 3",
   "language": "python",
   "name": "python3"
  },
  "language_info": {
   "codemirror_mode": {
    "name": "ipython",
    "version": 3
   },
   "file_extension": ".py",
   "mimetype": "text/x-python",
   "name": "python",
   "nbconvert_exporter": "python",
   "pygments_lexer": "ipython3",
   "version": "3.6.1"
  }
 },
 "nbformat": 4,
 "nbformat_minor": 2
}
