{
 "cells": [
  {
   "cell_type": "code",
   "execution_count": 1,
   "metadata": {},
   "outputs": [],
   "source": [
    "import cv2\n",
    "import numpy as np"
   ]
  },
  {
   "cell_type": "code",
   "execution_count": 2,
   "metadata": {},
   "outputs": [],
   "source": [
    "def nothing(x):\n",
    "    pass"
   ]
  },
  {
   "cell_type": "code",
   "execution_count": 3,
   "metadata": {},
   "outputs": [],
   "source": [
    "bright = cv2.imread('cube1.jpg')\n",
    "dark = cv2.imread('cube8.jpg')"
   ]
  },
  {
   "cell_type": "code",
   "execution_count": 4,
   "metadata": {},
   "outputs": [],
   "source": [
    "cv2.imshow(\"original bright\", bright)\n",
    "cv2.imshow(\"original dark\", dark)\n",
    "\n",
    "cv2.waitKey(0)\n",
    "cv2.destroyAllWindows()"
   ]
  },
  {
   "cell_type": "code",
   "execution_count": null,
   "metadata": {},
   "outputs": [],
   "source": [
    "brightHSV = cv2.cvtColor(bright, cv2.COLOR_BGR2HSV)\n",
    "darkHSV = cv2.cvtColor(dark, cv2.COLOR_BGR2HSV)"
   ]
  },
  {
   "cell_type": "code",
   "execution_count": 20,
   "metadata": {},
   "outputs": [],
   "source": [
    "cap = cv2.VideoCapture(0)\n",
    "\n",
    "nameWindow = 'colorspace'\n",
    "cv2.namedWindow(nameWindow)\n",
    "\n",
    "cv2.createTrackbar('HSV_H_Min', nameWindow, 0, 255, nothing)\n",
    "cv2.createTrackbar('HSV_H_Max', nameWindow, 0, 255, nothing)\n",
    "\n",
    "cv2.createTrackbar('HSV_S_Min', nameWindow, 0, 255, nothing)\n",
    "cv2.createTrackbar('HSV_S_Max', nameWindow, 0, 255, nothing)\n",
    "\n",
    "cv2.createTrackbar('HSV_V_Min', nameWindow, 0, 255, nothing)\n",
    "cv2.createTrackbar('HSV_V_Max', nameWindow, 0, 255, nothing)\n",
    "\n",
    "cv2.createTrackbar('Erode', nameWindow, 1, 10, nothing)\n",
    "cv2.createTrackbar('Dilate', nameWindow, 1, 10, nothing)\n",
    "\n",
    "cv2.createTrackbar('Erode_ite', nameWindow, 1, 5, nothing)\n",
    "cv2.createTrackbar('Dilate_ite', nameWindow, 1, 5, nothing)\n",
    "\n",
    "\n",
    "#calibrate slider for each color\n",
    "cv2.createTrackbar('Calibrate', nameWindow, 1, 10, nothing)"
   ]
  },
  {
   "cell_type": "code",
   "execution_count": 21,
   "metadata": {},
   "outputs": [],
   "source": [
    "#HSV\n",
    "while(True):\n",
    "        # Capture frame-by-frame\n",
    "    ret, frame = cap.read()\n",
    "\n",
    "    # Our operations on the frame come here\n",
    "    hsv_frame = cv2.cvtColor(frame, cv2.COLOR_BGR2HSV)\n",
    "    \n",
    "    hsv_h_min = cv2.getTrackbarPos('HSV_H_Min', nameWindow)\n",
    "    hsv_h_max = cv2.getTrackbarPos('HSV_H_Max', nameWindow)\n",
    "\n",
    "    hsv_s_min = cv2.getTrackbarPos('HSV_S_Min', nameWindow)\n",
    "    hsv_s_max = cv2.getTrackbarPos('HSV_S_Max', nameWindow)\n",
    "\n",
    "    hsv_v_min = cv2.getTrackbarPos('HSV_V_Min', nameWindow)\n",
    "    hsv_v_max = cv2.getTrackbarPos('HSV_V_Max', nameWindow)\n",
    "    \n",
    "    erode_size = cv2.getTrackbarPos('Erode', nameWindow)\n",
    "    dilate_size = cv2.getTrackbarPos('Dilate', nameWindow)\n",
    "    \n",
    "    erode_ite = cv2.getTrackbarPos('Erode_ite', nameWindow)\n",
    "    dilate_ite = cv2.getTrackbarPos('Dilate_ite', nameWindow)\n",
    "    \n",
    "    #calibrate slider\n",
    "    dilate_ite = cv2.getTrackbarPos('Dilate_ite', nameWindow)\n",
    "    \n",
    "    minHSV = np.array([hsv_h_min, hsv_s_min, hsv_v_min])\n",
    "    maxHSV = np.array([hsv_h_max, hsv_s_max, hsv_v_max])\n",
    "    \n",
    "    maskHSV = cv2.inRange(hsv_frame, minHSV, maxHSV)\n",
    "    resultHSV = cv2.bitwise_and(hsv_frame, hsv_frame, mask = maskHSV)\n",
    "    \n",
    "    kernel_erode = np.ones((erode_size, erode_size),np.uint8)\n",
    "    kernel_dilate = np.ones((dilate_size, dilate_size),np.uint8)\n",
    "    \n",
    "    morphology = cv2.erode(resultHSV, kernel_erode, iterations = erode_ite)\n",
    "    morphology = cv2.erode(morphology, kernel_dilate, iterations = dilate_ite)\n",
    "\n",
    "    # Display the resulting frame\n",
    "    cv2.imshow('orignal', frame)\n",
    "    cv2.imshow('hsv', hsv_frame)\n",
    "    cv2.imshow('resut hsv', resultHSV)\n",
    "    cv2.imshow('morphology hsv', morphology)\n",
    "    \n",
    "    #Single color processing\n",
    "    \n",
    "    #composition of color processing\n",
    "    \n",
    "    \n",
    "    if cv2.waitKey(1) & 0xFF == ord('q'):\n",
    "        break\n",
    "\n",
    "# When everything done, release the capture\n",
    "cap.release()\n",
    "cv2.destroyAllWindows()"
   ]
  },
  {
   "cell_type": "code",
   "execution_count": null,
   "metadata": {},
   "outputs": [],
   "source": []
  }
 ],
 "metadata": {
  "kernelspec": {
   "display_name": "Python 3",
   "language": "python",
   "name": "python3"
  },
  "language_info": {
   "codemirror_mode": {
    "name": "ipython",
    "version": 2
   },
   "file_extension": ".py",
   "mimetype": "text/x-python",
   "name": "python",
   "nbconvert_exporter": "python",
   "pygments_lexer": "ipython2",
   "version": "2.7.12"
  }
 },
 "nbformat": 4,
 "nbformat_minor": 2
}
