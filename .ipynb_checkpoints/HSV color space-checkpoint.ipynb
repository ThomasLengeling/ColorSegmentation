{
 "cells": [
  {
   "cell_type": "code",
   "execution_count": 12,
   "metadata": {},
   "outputs": [],
   "source": [
    "import cv2\n",
    "import numpy as np"
   ]
  },
  {
   "cell_type": "code",
   "execution_count": 13,
   "metadata": {},
   "outputs": [],
   "source": [
    "def nothing(x):\n",
    "    pass"
   ]
  },
  {
   "cell_type": "code",
   "execution_count": 14,
   "metadata": {},
   "outputs": [],
   "source": [
    "bright = cv2.imread('cube1.jpg')\n",
    "dark = cv2.imread('cube8.jpg')"
   ]
  },
  {
   "cell_type": "code",
   "execution_count": 11,
   "metadata": {},
   "outputs": [],
   "source": [
    "cv2.imshow(\"original bright\", bright)\n",
    "cv2.imshow(\"original dark\", dark)\n",
    "\n",
    "cv2.waitKey(0)\n",
    "cv2.destroyAllWindows()"
   ]
  },
  {
   "cell_type": "code",
   "execution_count": 15,
   "metadata": {},
   "outputs": [],
   "source": [
    "brightHSV = cv2.cvtColor(bright, cv2.COLOR_BGR2HSV)\n",
    "darkHSV = cv2.cvtColor(dark, cv2.COLOR_BGR2HSV)"
   ]
  },
  {
   "cell_type": "code",
   "execution_count": 16,
   "metadata": {},
   "outputs": [],
   "source": [
    "cap = cv2.VideoCapture(0)\n",
    "\n",
    "nameWindow = 'colorspace'\n",
    "cv2.namedWindow(nameWindow)\n",
    "\n",
    "cv2.createTrackbar('HSV_H_Min', nameWindow, 0, 255, nothing)\n",
    "cv2.createTrackbar('HSV_H_Max', nameWindow, 0, 255, nothing)\n",
    "\n",
    "cv2.createTrackbar('HSV_S_Min', nameWindow, 0, 255, nothing)\n",
    "cv2.createTrackbar('HSV_S_Max', nameWindow, 0, 255, nothing)\n",
    "\n",
    "cv2.createTrackbar('HSV_V_Min', nameWindow, 0, 255, nothing)\n",
    "cv2.createTrackbar('HSV_V_Max', nameWindow, 0, 255, nothing)\n",
    "\n",
    "cv2.createTrackbar('Erode', nameWindow, 1, 10, nothing)\n",
    "cv2.createTrackbar('Dilate', nameWindow, 1, 10, nothing)\n",
    "\n",
    "cv2.createTrackbar('Erode_ite', nameWindow, 1, 5, nothing)\n",
    "cv2.createTrackbar('Dilate_ite', nameWindow, 1, 5, nothing)\n",
    "\n",
    "##fill the initial values\n",
    "color_calibration = np.full((14, 3), 0)\n",
    "\n",
    "color_calibration[0][0] = 50\n",
    "color_calibration[1][0] = 100\n",
    "\n",
    "color_calibration[0][1] = 50\n",
    "color_calibration[1][1] = 255\n",
    "\n",
    "color_calibration[0][2] = 50\n",
    "color_calibration[1][2] = 255\n",
    "\n",
    "color_calibration[2][0] = 100\n",
    "color_calibration[3][0] = 150\n",
    "\n",
    "color_calibration[2][1] = 50\n",
    "color_calibration[3][1] = 255\n",
    "\n",
    "color_calibration[2][2] = 50\n",
    "color_calibration[3][2] = 255\n",
    "\n",
    "cv2.setTrackbarPos('HSV_H_Min', nameWindow, color_calibration[0][0])\n",
    "cv2.setTrackbarPos('HSV_H_Max', nameWindow, color_calibration[1][0])\n",
    "\n",
    "cv2.setTrackbarPos('HSV_S_Min', nameWindow, color_calibration[0][1]\n",
    "cv2.setTrackbarPos('HSV_S_Max', nameWindow, color_calibration[1][1])\n",
    "\n",
    "cv2.setTrackbarPos('HSV_V_Min', nameWindow, color_calibration[0][2])\n",
    "cv2.setTrackbarPos('HSV_V_Max', nameWindow, color_calibration[1][2])\n",
    "\n",
    "\n",
    "#calibrate slider for each color\n",
    "cv2.createTrackbar('Calibrate', nameWindow, 1, 10, nothing)"
   ]
  },
  {
   "cell_type": "code",
   "execution_count": 17,
   "metadata": {},
   "outputs": [
    {
     "name": "stdout",
     "output_type": "stream",
     "text": [
      "0\n",
      "(14, 3)\n",
      "(3,)\n",
      "(3,)\n"
     ]
    }
   ],
   "source": [
    "color_calibration = np.full((14, 3), 0)\n",
    "print(color_calibration[1][0])\n",
    "\n",
    "print(color_calibration.shape)\n",
    "print(color_calibration[1].shape)\n",
    "\n",
    "\n",
    "a = np.array([1, 2, 3])\n",
    "print(a.shape)"
   ]
  },
  {
   "cell_type": "code",
   "execution_count": null,
   "metadata": {},
   "outputs": [],
   "source": [
    "#set default color calibration\n",
    "\n"
   ]
  },
  {
   "cell_type": "code",
   "execution_count": 18,
   "metadata": {},
   "outputs": [
    {
     "ename": "error",
     "evalue": "/home/thomas/opencv-3.3.0/modules/imgproc/src/color.cpp:10705: error: (-215) (scn == 3 || scn == 4) && (depth == CV_8U || depth == CV_32F) in function cvtColor\n",
     "output_type": "error",
     "traceback": [
      "\u001b[0;31m---------------------------------------------------------------------------\u001b[0m",
      "\u001b[0;31merror\u001b[0m                                     Traceback (most recent call last)",
      "\u001b[0;32m<ipython-input-18-e1ff9ebb1ab3>\u001b[0m in \u001b[0;36m<module>\u001b[0;34m()\u001b[0m\n\u001b[1;32m      8\u001b[0m \u001b[0;34m\u001b[0m\u001b[0m\n\u001b[1;32m      9\u001b[0m     \u001b[0;31m# Our operations on the frame come here\u001b[0m\u001b[0;34m\u001b[0m\u001b[0;34m\u001b[0m\u001b[0m\n\u001b[0;32m---> 10\u001b[0;31m     \u001b[0mhsv_frame\u001b[0m \u001b[0;34m=\u001b[0m \u001b[0mcv2\u001b[0m\u001b[0;34m.\u001b[0m\u001b[0mcvtColor\u001b[0m\u001b[0;34m(\u001b[0m\u001b[0mframe\u001b[0m\u001b[0;34m,\u001b[0m \u001b[0mcv2\u001b[0m\u001b[0;34m.\u001b[0m\u001b[0mCOLOR_BGR2HSV\u001b[0m\u001b[0;34m)\u001b[0m\u001b[0;34m\u001b[0m\u001b[0m\n\u001b[0m\u001b[1;32m     11\u001b[0m \u001b[0;34m\u001b[0m\u001b[0m\n\u001b[1;32m     12\u001b[0m     \u001b[0mhsv_h_min\u001b[0m \u001b[0;34m=\u001b[0m \u001b[0mcv2\u001b[0m\u001b[0;34m.\u001b[0m\u001b[0mgetTrackbarPos\u001b[0m\u001b[0;34m(\u001b[0m\u001b[0;34m'HSV_H_Min'\u001b[0m\u001b[0;34m,\u001b[0m \u001b[0mnameWindow\u001b[0m\u001b[0;34m)\u001b[0m\u001b[0;34m\u001b[0m\u001b[0m\n",
      "\u001b[0;31merror\u001b[0m: /home/thomas/opencv-3.3.0/modules/imgproc/src/color.cpp:10705: error: (-215) (scn == 3 || scn == 4) && (depth == CV_8U || depth == CV_32F) in function cvtColor\n"
     ]
    }
   ],
   "source": [
    "#HSV\n",
    "calibrate_id = 1\n",
    "calibrate_id_prev = 0;\n",
    "\n",
    "while(True):\n",
    "        # Capture frame-by-frame\n",
    "    ret, frame = cap.read()\n",
    "\n",
    "    # Our operations on the frame come here\n",
    "    hsv_frame = cv2.cvtColor(frame, cv2.COLOR_BGR2HSV)\n",
    "    \n",
    "    hsv_h_min = cv2.getTrackbarPos('HSV_H_Min', nameWindow)\n",
    "    hsv_h_max = cv2.getTrackbarPos('HSV_H_Max', nameWindow)\n",
    "\n",
    "    hsv_s_min = cv2.getTrackbarPos('HSV_S_Min', nameWindow)\n",
    "    hsv_s_max = cv2.getTrackbarPos('HSV_S_Max', nameWindow)\n",
    "\n",
    "    hsv_v_min = cv2.getTrackbarPos('HSV_V_Min', nameWindow)\n",
    "    hsv_v_max = cv2.getTrackbarPos('HSV_V_Max', nameWindow)\n",
    "    \n",
    "    erode_size = cv2.getTrackbarPos('Erode', nameWindow)\n",
    "    dilate_size = cv2.getTrackbarPos('Dilate', nameWindow)\n",
    "    \n",
    "    erode_ite = cv2.getTrackbarPos('Erode_ite', nameWindow)\n",
    "    dilate_ite = cv2.getTrackbarPos('Dilate_ite', nameWindow)\n",
    "    \n",
    "    #calibrate slider\n",
    "    calibrate_id_prev = calibrate_id\n",
    "    calibrate_id = cv2.getTrackbarPos('Calibrate', nameWindow)\n",
    "    \n",
    "    #if there is a change then we can store the calibrated values\n",
    "    # we can also save the values once the \n",
    "    if abs(calibrate_id - calibrate_id_prev) > 0 :\n",
    "        \n",
    "        cv2.setTrackbarPos('HSV_H_Min', nameWindow, color_calibration[calibrate_id*2 + 0][0])\n",
    "        cv2.setTrackbarPos('HSV_H_Max', nameWindow, color_calibration[calibrate_id*2 + 1][0])\n",
    "        \n",
    "        cv2.setTrackbarPos('HSV_S_Min', nameWindow, color_calibration[calibrate_id*2 + 0][1])\n",
    "        cv2.setTrackbarPos('HSV_S_Max', nameWindow, color_calibration[calibrate_id*2 + 1][1])\n",
    "        \n",
    "        cv2.setTrackbarPos('HSV_V_Min', nameWindow, color_calibration[calibrate_id*2 + 0][2])\n",
    "        cv2.setTrackbarPos('HSV_V_Max', nameWindow, color_calibration[calibrate_id*2 + 1][2])\n",
    "                   \n",
    "        color_calibration[calibrate_id*2 + 0] = np.array([hsv_h_min, hsv_s_min, hsv_v_min])\n",
    "        color_calibration[calibrate_id*2 + 1] = np.array([hsv_h_max, hsv_s_max, hsv_v_max])\n",
    "        \n",
    "        print(\"new color Calibration\")\n",
    "        print(color_calibration[calibrate_id*2 + 0])\n",
    "        print(color_calibration[calibrate_id*2 + 1])\n",
    "        \n",
    "        \n",
    "    \n",
    "    \n",
    "    #white -> 1\n",
    "    #black -> 2\n",
    "    #red   -> 3\n",
    "    #blue  -> 4\n",
    "    #yellow-> 5\n",
    "    #green -> 6\n",
    "    #gray  -> 7\n",
    "    \n",
    "    \n",
    "    #minHSV = np.array([hsv_h_min, hsv_s_min, hsv_v_min])\n",
    "    #maxHSV = np.array([hsv_h_max, hsv_s_max, hsv_v_max])\n",
    "    \n",
    "    #minHSV = np.array([hsv_h_min, hsv_s_min, hsv_v_min])\n",
    "    #maxHSV = np.array([hsv_h_max, hsv_s_max, hsv_v_max])\n",
    "    \n",
    "    maskHSV = cv2.inRange(hsv_frame, minHSV, maxHSV)\n",
    "    resultHSV = cv2.bitwise_and(hsv_frame, hsv_frame, mask = maskHSV)\n",
    "    \n",
    "    kernel_erode = np.ones((erode_size, erode_size),np.uint8)\n",
    "    kernel_dilate = np.ones((dilate_size, dilate_size),np.uint8)\n",
    "    \n",
    "    #Morphological opening (remove small objects from the foreground)\n",
    "    morphology = cv2.erode(resultHSV, kernel_erode, iterations = erode_ite)\n",
    "    morphology = cv2.dilate(morphology, kernel_dilate, iterations = dilate_ite)\n",
    "    \n",
    "    #Morphological closing (fill small holes in the foreground)\n",
    "    morphology = cv2.dilate(morphology, kernel_dilate, iterations=dilate_ite)\n",
    "    morphology = cv2.erode(morphology, kernel_erode, iterations=erode_ite)\n",
    "    \n",
    "    #Morphological opening (remove small objects from the foreground)\n",
    "\n",
    "    # Display the resulting frame\n",
    "    cv2.imshow('orignal', frame)\n",
    "    cv2.imshow('hsv', hsv_frame)\n",
    "    cv2.imshow('resut hsv', resultHSV)\n",
    "    cv2.imshow('morphology hsv', morphology)\n",
    "    \n",
    "    #Single color processing\n",
    "    \n",
    "    #composition of color processing\n",
    "    \n",
    "    \n",
    "    if cv2.waitKey(1) & 0xFF == ord('q'):\n",
    "        break\n",
    "\n",
    "# When everything done, release the capture\n",
    "cap.release()\n",
    "cv2.destroyAllWindows()"
   ]
  },
  {
   "cell_type": "code",
   "execution_count": null,
   "metadata": {},
   "outputs": [],
   "source": []
  }
 ],
 "metadata": {
  "kernelspec": {
   "display_name": "Python 3",
   "language": "python",
   "name": "python3"
  },
  "language_info": {
   "codemirror_mode": {
    "name": "ipython",
    "version": 2
   },
   "file_extension": ".py",
   "mimetype": "text/x-python",
   "name": "python",
   "nbconvert_exporter": "python",
   "pygments_lexer": "ipython2",
   "version": "2.7.12"
  }
 },
 "nbformat": 4,
 "nbformat_minor": 2
}
