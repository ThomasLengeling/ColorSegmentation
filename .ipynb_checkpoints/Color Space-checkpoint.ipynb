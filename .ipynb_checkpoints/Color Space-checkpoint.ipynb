{
 "cells": [
  {
   "cell_type": "code",
   "execution_count": 3,
   "metadata": {},
   "outputs": [],
   "source": [
    "import cv2\n",
    "import numpy as np"
   ]
  },
  {
   "cell_type": "code",
   "execution_count": 4,
   "metadata": {},
   "outputs": [],
   "source": [
    "def nothing(x):\n",
    "    pass"
   ]
  },
  {
   "cell_type": "code",
   "execution_count": 5,
   "metadata": {},
   "outputs": [],
   "source": [
    "bright = cv2.imread('cube1.jpg')\n",
    "dark = cv2.imread('cube8.jpg')"
   ]
  },
  {
   "cell_type": "code",
   "execution_count": 6,
   "metadata": {},
   "outputs": [],
   "source": [
    "cv2.imshow(\"original bright\", bright)\n",
    "cv2.imshow(\"original dark\", dark)\n",
    "\n",
    "cv2.waitKey(0)\n",
    "cv2.destroyAllWindows()"
   ]
  },
  {
   "cell_type": "code",
   "execution_count": 6,
   "metadata": {},
   "outputs": [],
   "source": [
    "#python \n",
    "brightHSV = cv2.cvtColor(bright, cv2.COLOR_BGR2HSV)\n",
    "darkHSV = cv2.cvtColor(dark, cv2.COLOR_BGR2HSV)\n",
    "\n",
    "brightYCB = cv2.cvtColor(bright, cv2.COLOR_BGR2YCrCb)\n",
    "darkYCB = cv2.cvtColor(dark, cv2.COLOR_BGR2YCrCb)\n",
    "\n",
    "brightLAB = cv2.cvtColor(bright, cv2.COLOR_BGR2LAB)\n",
    "darkLAB = cv2.cvtColor(dark, cv2.COLOR_BGR2LAB)"
   ]
  },
  {
   "cell_type": "code",
   "execution_count": null,
   "metadata": {},
   "outputs": [],
   "source": [
    "#sliders\n",
    "cv2.createTrackbar('R','image',0,255,nothing)\n",
    "cv2.createTrackbar('G','image',0,255,nothing)\n",
    "cv2.createTrackbar('B','image',0,255,nothing)"
   ]
  },
  {
   "cell_type": "code",
   "execution_count": 7,
   "metadata": {},
   "outputs": [],
   "source": [
    "bgr = [40, 158, 16]\n",
    "thresh = 40\n",
    " \n",
    "minBGR = np.array([bgr[0] - thresh, bgr[1] - thresh, bgr[2] - thresh])\n",
    "maxBGR = np.array([bgr[0] + thresh, bgr[1] + thresh, bgr[2] + thresh])\n",
    "\n",
    "cv2.createTrackbar('RGB_R_Min', 'colorspace', 0, 255, nothing)\n",
    "cv2.createTrackbar('RGB_R_Max', 'colorspace', 0, 255, nothing)\n",
    "\n",
    "cv2.createTrackbar('RGB_G_Min', 'colorspace', 0, 255, nothing)\n",
    "cv2.createTrackbar('RGB_G_Max', 'colorspace', 0, 255, nothing)\n",
    "\n",
    "cv2.createTrackbar('RGB_B_Min', 'colorspace', 0, 255, nothing)\n",
    "cv2.createTrackbar('RGB_B_Max', 'colorspace', 0, 255, nothing)\n",
    "\n",
    "maskBGR = cv2.inRange(bright,minBGR,maxBGR)\n",
    "resultBGR = cv2.bitwise_and(bright, bright, mask = maskBGR)\n",
    " \n",
    "#convert 1D array to 3D, then convert it to HSV and take the first element \n",
    "# this will be same as shown in the above figure [65, 229, 158]\n",
    "hsv = cv2.cvtColor( np.uint8([[bgr]] ), cv2.COLOR_BGR2HSV)[0][0]\n",
    " \n",
    "minHSV = np.array([hsv[0] - thresh, hsv[1] - thresh, hsv[2] - thresh])\n",
    "maxHSV = np.array([hsv[0] + thresh, hsv[1] + thresh, hsv[2] + thresh])\n",
    " \n",
    "maskHSV = cv2.inRange(brightHSV, minHSV, maxHSV)\n",
    "resultHSV = cv2.bitwise_and(brightHSV, brightHSV, mask = maskHSV)\n",
    " \n",
    "#convert 1D array to 3D, then convert it to YCrCb and take the first element \n",
    "ycb = cv2.cvtColor( np.uint8([[bgr]] ), cv2.COLOR_BGR2YCrCb)[0][0]\n",
    " \n",
    "minYCB = np.array([ycb[0] - thresh, ycb[1] - thresh, ycb[2] - thresh])\n",
    "maxYCB = np.array([ycb[0] + thresh, ycb[1] + thresh, ycb[2] + thresh])\n",
    " \n",
    "maskYCB = cv2.inRange(brightYCB, minYCB, maxYCB)\n",
    "resultYCB = cv2.bitwise_and(brightYCB, brightYCB, mask = maskYCB)\n",
    " \n",
    "#convert 1D array to 3D, then convert it to LAB and take the first element \n",
    "lab = cv2.cvtColor( np.uint8([[bgr]] ), cv2.COLOR_BGR2LAB)[0][0]\n",
    " \n",
    "minLAB = np.array([lab[0] - thresh, lab[1] - thresh, lab[2] - thresh])\n",
    "maxLAB = np.array([lab[0] + thresh, lab[1] + thresh, lab[2] + thresh])\n",
    " \n",
    "maskLAB = cv2.inRange(brightLAB, minLAB, maxLAB)\n",
    "resultLAB = cv2.bitwise_and(brightLAB, brightLAB, mask = maskLAB)\n",
    " "
   ]
  },
  {
   "cell_type": "code",
   "execution_count": null,
   "metadata": {},
   "outputs": [],
   "source": [
    "cv2.imshow(\"Result BGR\", resultBGR)\n",
    "cv2.imshow(\"Result HSV\", resultHSV)\n",
    "cv2.imshow(\"Result YCB\", resultYCB)\n",
    "cv2.imshow(\"Output LAB\", resultLAB)\n",
    "\n",
    "cv2.waitKey(0)\n",
    "cv2.destroyAllWindows()"
   ]
  },
  {
   "cell_type": "code",
   "execution_count": null,
   "metadata": {},
   "outputs": [],
   "source": []
  },
  {
   "cell_type": "code",
   "execution_count": null,
   "metadata": {
    "collapsed": true
   },
   "outputs": [],
   "source": [
    "#load all images of blue or yellow pieces\n",
    "B = np.array([])\n",
    "G = np.array([])\n",
    "R = np.array([])\n",
    "im = cv2.imread(fi)"
   ]
  },
  {
   "cell_type": "code",
   "execution_count": null,
   "metadata": {},
   "outputs": [],
   "source": [
    "#Separate the channels and create and array for each channel by appending the values from each image\n",
    "\n",
    "b = im[:,:,0]\n",
    "b = b.reshape(b.shape[0]*b.shape[1])\n",
    "g = im[:,:,1]\n",
    "g = g.reshape(g.shape[0]*g.shape[1])\n",
    "r = im[:,:,2]\n",
    "r = r.reshape(r.shape[0]*r.shape[1])\n",
    "B = np.append(B,b)\n",
    "G = np.append(G,g)\n",
    "R = np.append(R,r)"
   ]
  },
  {
   "cell_type": "code",
   "execution_count": null,
   "metadata": {},
   "outputs": [],
   "source": [
    "#use hisrogram to plot the 2d histograms\n",
    "\n",
    "nbins = 10\n",
    "plt.hist2d(B, G, bins=nbins, norm=LogNorm())\n",
    "plt.xlabel('B')\n",
    "plt.ylabel('G')\n",
    "plt.xlim([0,255])\n",
    "plt.ylim([0,255])"
   ]
  }
 ],
 "metadata": {
  "kernelspec": {
   "display_name": "Python 3",
   "language": "python",
   "name": "python3"
  },
  "language_info": {
   "codemirror_mode": {
    "name": "ipython",
    "version": 2
   },
   "file_extension": ".py",
   "mimetype": "text/x-python",
   "name": "python",
   "nbconvert_exporter": "python",
   "pygments_lexer": "ipython2",
   "version": "2.7.12"
  }
 },
 "nbformat": 4,
 "nbformat_minor": 2
}
